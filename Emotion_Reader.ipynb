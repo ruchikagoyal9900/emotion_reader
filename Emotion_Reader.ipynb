{
 "cells": [
  {
   "cell_type": "code",
   "execution_count": 2,
   "metadata": {},
   "outputs": [
    {
     "name": "stdout",
     "output_type": "stream",
     "text": [
      "Requirement already satisfied: opencv-python in c:\\users\\hp\\anaconda3\\lib\\site-packages (4.5.3.56)\n",
      "Requirement already satisfied: numpy>=1.17.3 in c:\\users\\hp\\anaconda3\\lib\\site-packages (from opencv-python) (1.19.2)\n",
      "Note: you may need to restart the kernel to use updated packages.\n"
     ]
    }
   ],
   "source": [
    "pip install opencv-python"
   ]
  },
  {
   "cell_type": "code",
   "execution_count": 5,
   "metadata": {},
   "outputs": [
    {
     "name": "stdout",
     "output_type": "stream",
     "text": [
      "Requirement already satisfied: deepface in c:\\users\\hp\\anaconda3\\lib\\site-packages (0.0.68)\n",
      "Requirement already satisfied: Flask>=1.1.2 in c:\\users\\hp\\anaconda3\\lib\\site-packages (from deepface) (1.1.2)\n",
      "Requirement already satisfied: tqdm>=4.30.0 in c:\\users\\hp\\anaconda3\\lib\\site-packages (from deepface) (4.50.2)\n",
      "Requirement already satisfied: retina-face>=0.0.1 in c:\\users\\hp\\anaconda3\\lib\\site-packages (from deepface) (0.0.5)\n",
      "Requirement already satisfied: tensorflow>=1.9.0 in c:\\users\\hp\\anaconda3\\lib\\site-packages (from deepface) (2.6.0)\n",
      "Requirement already satisfied: opencv-python>=3.4.4 in c:\\users\\hp\\anaconda3\\lib\\site-packages (from deepface) (4.5.3.56)\n",
      "Requirement already satisfied: mtcnn>=0.1.0 in c:\\users\\hp\\anaconda3\\lib\\site-packages (from deepface) (0.1.1)\n",
      "Requirement already satisfied: Pillow>=5.2.0 in c:\\users\\hp\\anaconda3\\lib\\site-packages (from deepface) (8.0.1)\n",
      "Requirement already satisfied: pandas>=0.23.4 in c:\\users\\hp\\anaconda3\\lib\\site-packages (from deepface) (1.1.3)\n",
      "Requirement already satisfied: gdown>=3.10.1 in c:\\users\\hp\\anaconda3\\lib\\site-packages (from deepface) (3.14.0)\n",
      "Requirement already satisfied: numpy>=1.14.0 in c:\\users\\hp\\anaconda3\\lib\\site-packages (from deepface) (1.19.2)\n",
      "Requirement already satisfied: keras>=2.2.0 in c:\\users\\hp\\anaconda3\\lib\\site-packages (from deepface) (2.6.0)\n",
      "Requirement already satisfied: itsdangerous>=0.24 in c:\\users\\hp\\anaconda3\\lib\\site-packages (from Flask>=1.1.2->deepface) (1.1.0)\n",
      "Requirement already satisfied: Jinja2>=2.10.1 in c:\\users\\hp\\anaconda3\\lib\\site-packages (from Flask>=1.1.2->deepface) (2.11.2)\n",
      "Requirement already satisfied: Werkzeug>=0.15 in c:\\users\\hp\\anaconda3\\lib\\site-packages (from Flask>=1.1.2->deepface) (1.0.1)\n",
      "Requirement already satisfied: click>=5.1 in c:\\users\\hp\\anaconda3\\lib\\site-packages (from Flask>=1.1.2->deepface) (7.1.2)\n",
      "Requirement already satisfied: google-pasta~=0.2 in c:\\users\\hp\\anaconda3\\lib\\site-packages (from tensorflow>=1.9.0->deepface) (0.2.0)\n",
      "Requirement already satisfied: flatbuffers~=1.12.0 in c:\\users\\hp\\anaconda3\\lib\\site-packages (from tensorflow>=1.9.0->deepface) (1.12)\n",
      "Requirement already satisfied: grpcio<2.0,>=1.37.0 in c:\\users\\hp\\anaconda3\\lib\\site-packages (from tensorflow>=1.9.0->deepface) (1.41.0)\n",
      "Requirement already satisfied: typing-extensions~=3.7.4 in c:\\users\\hp\\anaconda3\\lib\\site-packages (from tensorflow>=1.9.0->deepface) (3.7.4.3)\n",
      "Requirement already satisfied: gast==0.4.0 in c:\\users\\hp\\anaconda3\\lib\\site-packages (from tensorflow>=1.9.0->deepface) (0.4.0)\n",
      "Requirement already satisfied: keras-preprocessing~=1.1.2 in c:\\users\\hp\\anaconda3\\lib\\site-packages (from tensorflow>=1.9.0->deepface) (1.1.2)\n",
      "Requirement already satisfied: wheel~=0.35 in c:\\users\\hp\\anaconda3\\lib\\site-packages (from tensorflow>=1.9.0->deepface) (0.35.1)\n",
      "Requirement already satisfied: wrapt~=1.12.1 in c:\\users\\hp\\anaconda3\\lib\\site-packages (from tensorflow>=1.9.0->deepface) (1.12.1)\n",
      "Requirement already satisfied: termcolor~=1.1.0 in c:\\users\\hp\\anaconda3\\lib\\site-packages (from tensorflow>=1.9.0->deepface) (1.1.0)\n",
      "Requirement already satisfied: tensorflow-estimator~=2.6 in c:\\users\\hp\\anaconda3\\lib\\site-packages (from tensorflow>=1.9.0->deepface) (2.6.0)\n",
      "Requirement already satisfied: protobuf>=3.9.2 in c:\\users\\hp\\anaconda3\\lib\\site-packages (from tensorflow>=1.9.0->deepface) (3.18.0)\n",
      "Requirement already satisfied: tensorboard~=2.6 in c:\\users\\hp\\anaconda3\\lib\\site-packages (from tensorflow>=1.9.0->deepface) (2.6.0)\n",
      "Requirement already satisfied: absl-py~=0.10 in c:\\users\\hp\\anaconda3\\lib\\site-packages (from tensorflow>=1.9.0->deepface) (0.14.0)\n",
      "Requirement already satisfied: six~=1.15.0 in c:\\users\\hp\\anaconda3\\lib\\site-packages (from tensorflow>=1.9.0->deepface) (1.15.0)\n",
      "Requirement already satisfied: astunparse~=1.6.3 in c:\\users\\hp\\anaconda3\\lib\\site-packages (from tensorflow>=1.9.0->deepface) (1.6.3)\n",
      "Requirement already satisfied: clang~=5.0 in c:\\users\\hp\\anaconda3\\lib\\site-packages (from tensorflow>=1.9.0->deepface) (5.0)\n",
      "Requirement already satisfied: h5py~=3.1.0 in c:\\users\\hp\\anaconda3\\lib\\site-packages (from tensorflow>=1.9.0->deepface) (3.1.0)\n",
      "Requirement already satisfied: opt-einsum~=3.3.0 in c:\\users\\hp\\anaconda3\\lib\\site-packages (from tensorflow>=1.9.0->deepface) (3.3.0)\n",
      "Requirement already satisfied: python-dateutil>=2.7.3 in c:\\users\\hp\\anaconda3\\lib\\site-packages (from pandas>=0.23.4->deepface) (2.8.1)\n",
      "Requirement already satisfied: pytz>=2017.2 in c:\\users\\hp\\anaconda3\\lib\\site-packages (from pandas>=0.23.4->deepface) (2020.1)\n",
      "Requirement already satisfied: filelock in c:\\users\\hp\\anaconda3\\lib\\site-packages (from gdown>=3.10.1->deepface) (3.0.12)\n",
      "Requirement already satisfied: requests[socks]>=2.12.0 in c:\\users\\hp\\anaconda3\\lib\\site-packages (from gdown>=3.10.1->deepface) (2.24.0)\n",
      "Requirement already satisfied: MarkupSafe>=0.23 in c:\\users\\hp\\anaconda3\\lib\\site-packages (from Jinja2>=2.10.1->Flask>=1.1.2->deepface) (1.1.1)\n",
      "Requirement already satisfied: setuptools>=41.0.0 in c:\\users\\hp\\anaconda3\\lib\\site-packages (from tensorboard~=2.6->tensorflow>=1.9.0->deepface) (50.3.1.post20201107)\n",
      "Requirement already satisfied: google-auth-oauthlib<0.5,>=0.4.1 in c:\\users\\hp\\anaconda3\\lib\\site-packages (from tensorboard~=2.6->tensorflow>=1.9.0->deepface) (0.4.6)\n",
      "Requirement already satisfied: tensorboard-plugin-wit>=1.6.0 in c:\\users\\hp\\anaconda3\\lib\\site-packages (from tensorboard~=2.6->tensorflow>=1.9.0->deepface) (1.8.0)\n",
      "Requirement already satisfied: tensorboard-data-server<0.7.0,>=0.6.0 in c:\\users\\hp\\anaconda3\\lib\\site-packages (from tensorboard~=2.6->tensorflow>=1.9.0->deepface) (0.6.1)\n",
      "Requirement already satisfied: markdown>=2.6.8 in c:\\users\\hp\\anaconda3\\lib\\site-packages (from tensorboard~=2.6->tensorflow>=1.9.0->deepface) (3.3.4)\n",
      "Requirement already satisfied: google-auth<2,>=1.6.3 in c:\\users\\hp\\anaconda3\\lib\\site-packages (from tensorboard~=2.6->tensorflow>=1.9.0->deepface) (1.35.0)\n",
      "Requirement already satisfied: urllib3!=1.25.0,!=1.25.1,<1.26,>=1.21.1 in c:\\users\\hp\\anaconda3\\lib\\site-packages (from requests[socks]>=2.12.0->gdown>=3.10.1->deepface) (1.25.11)\n",
      "Requirement already satisfied: idna<3,>=2.5 in c:\\users\\hp\\anaconda3\\lib\\site-packages (from requests[socks]>=2.12.0->gdown>=3.10.1->deepface) (2.10)\n",
      "Requirement already satisfied: certifi>=2017.4.17 in c:\\users\\hp\\anaconda3\\lib\\site-packages (from requests[socks]>=2.12.0->gdown>=3.10.1->deepface) (2020.6.20)\n",
      "Requirement already satisfied: chardet<4,>=3.0.2 in c:\\users\\hp\\anaconda3\\lib\\site-packages (from requests[socks]>=2.12.0->gdown>=3.10.1->deepface) (3.0.4)\n",
      "Requirement already satisfied: PySocks!=1.5.7,>=1.5.6; extra == \"socks\" in c:\\users\\hp\\anaconda3\\lib\\site-packages (from requests[socks]>=2.12.0->gdown>=3.10.1->deepface) (1.7.1)\n",
      "Requirement already satisfied: requests-oauthlib>=0.7.0 in c:\\users\\hp\\anaconda3\\lib\\site-packages (from google-auth-oauthlib<0.5,>=0.4.1->tensorboard~=2.6->tensorflow>=1.9.0->deepface) (1.3.0)\n",
      "Requirement already satisfied: pyasn1-modules>=0.2.1 in c:\\users\\hp\\anaconda3\\lib\\site-packages (from google-auth<2,>=1.6.3->tensorboard~=2.6->tensorflow>=1.9.0->deepface) (0.2.8)\n",
      "Requirement already satisfied: rsa<5,>=3.1.4; python_version >= \"3.6\" in c:\\users\\hp\\anaconda3\\lib\\site-packages (from google-auth<2,>=1.6.3->tensorboard~=2.6->tensorflow>=1.9.0->deepface) (4.7.2)\n",
      "Requirement already satisfied: cachetools<5.0,>=2.0.0 in c:\\users\\hp\\anaconda3\\lib\\site-packages (from google-auth<2,>=1.6.3->tensorboard~=2.6->tensorflow>=1.9.0->deepface) (4.2.4)\n",
      "Requirement already satisfied: oauthlib>=3.0.0 in c:\\users\\hp\\anaconda3\\lib\\site-packages (from requests-oauthlib>=0.7.0->google-auth-oauthlib<0.5,>=0.4.1->tensorboard~=2.6->tensorflow>=1.9.0->deepface) (3.1.1)\n",
      "Requirement already satisfied: pyasn1<0.5.0,>=0.4.6 in c:\\users\\hp\\anaconda3\\lib\\site-packages (from pyasn1-modules>=0.2.1->google-auth<2,>=1.6.3->tensorboard~=2.6->tensorflow>=1.9.0->deepface) (0.4.8)\n",
      "Note: you may need to restart the kernel to use updated packages.\n"
     ]
    }
   ],
   "source": [
    "pip install deepface"
   ]
  },
  {
   "cell_type": "code",
   "execution_count": 6,
   "metadata": {},
   "outputs": [
    {
     "name": "stdout",
     "output_type": "stream",
     "text": [
      "Requirement already satisfied: matplotlib in c:\\users\\hp\\anaconda3\\lib\\site-packages (3.3.2)\n",
      "Requirement already satisfied: pillow>=6.2.0 in c:\\users\\hp\\anaconda3\\lib\\site-packages (from matplotlib) (8.0.1)\n",
      "Requirement already satisfied: python-dateutil>=2.1 in c:\\users\\hp\\anaconda3\\lib\\site-packages (from matplotlib) (2.8.1)\n",
      "Requirement already satisfied: kiwisolver>=1.0.1 in c:\\users\\hp\\anaconda3\\lib\\site-packages (from matplotlib) (1.3.0)\n",
      "Requirement already satisfied: certifi>=2020.06.20 in c:\\users\\hp\\anaconda3\\lib\\site-packages (from matplotlib) (2020.6.20)\n",
      "Requirement already satisfied: pyparsing!=2.0.4,!=2.1.2,!=2.1.6,>=2.0.3 in c:\\users\\hp\\anaconda3\\lib\\site-packages (from matplotlib) (2.4.7)\n",
      "Requirement already satisfied: numpy>=1.15 in c:\\users\\hp\\anaconda3\\lib\\site-packages (from matplotlib) (1.19.2)\n",
      "Requirement already satisfied: cycler>=0.10 in c:\\users\\hp\\anaconda3\\lib\\site-packages (from matplotlib) (0.10.0)\n",
      "Requirement already satisfied: six>=1.5 in c:\\users\\hp\\anaconda3\\lib\\site-packages (from python-dateutil>=2.1->matplotlib) (1.15.0)\n",
      "Note: you may need to restart the kernel to use updated packages.\n"
     ]
    }
   ],
   "source": [
    "pip install matplotlib\n"
   ]
  },
  {
   "cell_type": "code",
   "execution_count": 7,
   "metadata": {},
   "outputs": [
    {
     "name": "stdout",
     "output_type": "stream",
     "text": [
      "Directory  C:\\Users\\HP /.deepface created\n",
      "Directory  C:\\Users\\HP /.deepface/weights created\n"
     ]
    }
   ],
   "source": [
    "\n",
    "import cv2\n",
    "from deepface import DeepFace"
   ]
  },
  {
   "cell_type": "code",
   "execution_count": 8,
   "metadata": {},
   "outputs": [
    {
     "name": "stdout",
     "output_type": "stream",
     "text": [
      "facial_expression_model_weights.h5 will be downloaded...\n"
     ]
    },
    {
     "name": "stderr",
     "output_type": "stream",
     "text": [
      "Downloading...\n",
      "From: https://github.com/serengil/deepface_models/releases/download/v1.0/facial_expression_model_weights.h5\n",
      "To: C:\\Users\\HP\\.deepface\\weights\\facial_expression_model_weights.h5\n",
      "100%|█████████████████████████████████████████████████████████████████████████████| 5.98M/5.98M [00:01<00:00, 4.47MB/s]\n"
     ]
    }
   ],
   "source": [
    "faceCascade = cv2.CascadeClassifier(cv2.data.haarcascades + 'haarcascade_frontalface_default.xml')\n",
    "\n",
    "cap = cv2.VideoCapture(0)\n",
    "\n",
    "while cv2.waitKey(1) == -1:\n",
    "  ret, frame = cap.read()\n",
    "  frame = cv2.flip(frame, 1)\n",
    "  #frame = cv2.resize(frame,(1280,760))\n",
    "  result = DeepFace.analyze(frame, actions = ['emotion'])\n",
    "\n",
    "  gray = cv2.cvtColor(frame, cv2.COLOR_BGR2GRAY)\n",
    "  faces = faceCascade.detectMultiScale(gray,1.1,4)\n",
    "\n",
    "  #draw rectangle around faces\n",
    "  for (x,y,w,h) in faces:\n",
    "    cv2.rectangle(frame, (x, y), (x+w, y+h), (0, 255, 0), 2)\n",
    "  font = cv2.FONT_HERSHEY_SIMPLEX\n",
    "      #using putText() for inserting text on video\n",
    "  cv2.putText(frame,\n",
    "    result['dominant_emotion'],\n",
    "    (50, 50),\n",
    "    font, 3,\n",
    "    (0, 0, 255),\n",
    "    2,\n",
    "    cv2.LINE_4);\n",
    "  cv2.imshow('Original Video',frame)\n",
    "\n",
    "  if (cv2.waitKey(2) & 0xFF == ord('q')):\n",
    "    break\n",
    "  \n",
    "cap.release()\n",
    "cv2.destroyAllWindows()"
   ]
  },
  {
   "cell_type": "code",
   "execution_count": null,
   "metadata": {},
   "outputs": [],
   "source": []
  }
 ],
 "metadata": {
  "kernelspec": {
   "display_name": "Python 3",
   "language": "python",
   "name": "python3"
  },
  "language_info": {
   "codemirror_mode": {
    "name": "ipython",
    "version": 3
   },
   "file_extension": ".py",
   "mimetype": "text/x-python",
   "name": "python",
   "nbconvert_exporter": "python",
   "pygments_lexer": "ipython3",
   "version": "3.8.5"
  }
 },
 "nbformat": 4,
 "nbformat_minor": 4
}
